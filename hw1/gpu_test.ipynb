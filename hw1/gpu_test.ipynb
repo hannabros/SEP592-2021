{
 "metadata": {
  "language_info": {
   "codemirror_mode": {
    "name": "ipython",
    "version": 3
   },
   "file_extension": ".py",
   "mimetype": "text/x-python",
   "name": "python",
   "nbconvert_exporter": "python",
   "pygments_lexer": "ipython3",
   "version": "3.7.9-final"
  },
  "orig_nbformat": 2,
  "kernelspec": {
   "name": "python3",
   "display_name": "Python 3.7.9 64-bit ('practice': conda)",
   "metadata": {
    "interpreter": {
     "hash": "9004631025f7975b83384206ecba96eb6bcbdbd868e71cca2af4aa5392918d1e"
    }
   }
  }
 },
 "nbformat": 4,
 "nbformat_minor": 2,
 "cells": [
  {
   "cell_type": "code",
   "execution_count": 1,
   "metadata": {},
   "outputs": [],
   "source": [
    "import os\n",
    "os.environ[\"KERAS_BACKEND\"] = \"plaidml.keras.backend\""
   ]
  },
  {
   "cell_type": "code",
   "execution_count": 3,
   "metadata": {},
   "outputs": [
    {
     "output_type": "stream",
     "name": "stdout",
     "text": [
      "time: 298 µs (started: 2021-03-11 22:55:24 +09:00)\n"
     ]
    }
   ],
   "source": [
    "%load_ext autotime"
   ]
  },
  {
   "cell_type": "code",
   "execution_count": 6,
   "metadata": {},
   "outputs": [
    {
     "output_type": "stream",
     "name": "stdout",
     "text": [
      "['/Users/hangyeolsun/workspace/kaist.sep592/hw1', '/Users/hangyeolsun/.vscode/extensions/ms-toolsai.jupyter-2021.2.603412351/pythonFiles/vscode_datascience_helpers/../.does-not-exist', '/Users/hangyeolsun/.vscode/extensions/ms-toolsai.jupyter-2021.2.603412351/pythonFiles', '/Users/hangyeolsun/.vscode/extensions/ms-toolsai.jupyter-2021.2.603412351/pythonFiles/lib/python', '/Users/hangyeolsun/miniconda3/envs/practice/lib/python37.zip', '/Users/hangyeolsun/miniconda3/envs/practice/lib/python3.7', '/Users/hangyeolsun/miniconda3/envs/practice/lib/python3.7/lib-dynload', '', '/Users/hangyeolsun/miniconda3/envs/practice/lib/python3.7/site-packages', '/Users/hangyeolsun/miniconda3/envs/practice/lib/python3.7/site-packages/gsdmm-0.1-py3.7.egg', '/Users/hangyeolsun/miniconda3/envs/practice/lib/python3.7/site-packages/IPython/extensions', '/Users/hangyeolsun/.ipython']\ntime: 757 µs (started: 2021-03-11 22:56:31 +09:00)\n"
     ]
    }
   ],
   "source": [
    "print(sys.path)"
   ]
  },
  {
   "cell_type": "code",
   "execution_count": null,
   "metadata": {},
   "outputs": [],
   "source": []
  }
 ]
}