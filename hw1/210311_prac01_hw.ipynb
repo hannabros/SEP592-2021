{
  "nbformat": 4,
  "nbformat_minor": 0,
  "metadata": {
    "colab": {
      "name": "210311_prac01_org.ipynb",
      "provenance": [],
      "collapsed_sections": [],
      "toc_visible": true
    },
    "kernelspec": {
      "name": "python3",
      "display_name": "Python 3"
    },
    "accelerator": "GPU"
  },
  "cells": [
    {
      "cell_type": "code",
      "metadata": {
        "colab": {
          "base_uri": "https://localhost:8080/"
        },
        "id": "nCfG1KKGxnAO",
        "outputId": "85f1483f-817c-4765-ab50-84e31674d9d1"
      },
      "source": [
        "!pip install ipython-autotime\n",
        "%load_ext autotime"
      ],
      "execution_count": 2,
      "outputs": [
        {
          "output_type": "stream",
          "text": [
            "Collecting ipython-autotime\n",
            "  Downloading https://files.pythonhosted.org/packages/b4/c9/b413a24f759641bc27ef98c144b590023c8038dfb8a3f09e713e9dff12c1/ipython_autotime-0.3.1-py2.py3-none-any.whl\n",
            "Requirement already satisfied: ipython in /usr/local/lib/python3.7/dist-packages (from ipython-autotime) (5.5.0)\n",
            "Requirement already satisfied: simplegeneric>0.8 in /usr/local/lib/python3.7/dist-packages (from ipython->ipython-autotime) (0.8.1)\n",
            "Requirement already satisfied: decorator in /usr/local/lib/python3.7/dist-packages (from ipython->ipython-autotime) (4.4.2)\n",
            "Requirement already satisfied: traitlets>=4.2 in /usr/local/lib/python3.7/dist-packages (from ipython->ipython-autotime) (5.0.5)\n",
            "Requirement already satisfied: prompt-toolkit<2.0.0,>=1.0.4 in /usr/local/lib/python3.7/dist-packages (from ipython->ipython-autotime) (1.0.18)\n",
            "Requirement already satisfied: pexpect; sys_platform != \"win32\" in /usr/local/lib/python3.7/dist-packages (from ipython->ipython-autotime) (4.8.0)\n",
            "Requirement already satisfied: pygments in /usr/local/lib/python3.7/dist-packages (from ipython->ipython-autotime) (2.6.1)\n",
            "Requirement already satisfied: setuptools>=18.5 in /usr/local/lib/python3.7/dist-packages (from ipython->ipython-autotime) (54.0.0)\n",
            "Requirement already satisfied: pickleshare in /usr/local/lib/python3.7/dist-packages (from ipython->ipython-autotime) (0.7.5)\n",
            "Requirement already satisfied: ipython-genutils in /usr/local/lib/python3.7/dist-packages (from traitlets>=4.2->ipython->ipython-autotime) (0.2.0)\n",
            "Requirement already satisfied: six>=1.9.0 in /usr/local/lib/python3.7/dist-packages (from prompt-toolkit<2.0.0,>=1.0.4->ipython->ipython-autotime) (1.15.0)\n",
            "Requirement already satisfied: wcwidth in /usr/local/lib/python3.7/dist-packages (from prompt-toolkit<2.0.0,>=1.0.4->ipython->ipython-autotime) (0.2.5)\n",
            "Requirement already satisfied: ptyprocess>=0.5 in /usr/local/lib/python3.7/dist-packages (from pexpect; sys_platform != \"win32\"->ipython->ipython-autotime) (0.7.0)\n",
            "Installing collected packages: ipython-autotime\n",
            "Successfully installed ipython-autotime-0.3.1\n",
            "time: 172 µs (started: 2021-03-15 02:46:03 +00:00)\n"
          ],
          "name": "stdout"
        }
      ]
    },
    {
      "cell_type": "markdown",
      "metadata": {
        "id": "pNxBOwYyMxG3"
      },
      "source": [
        "## **Homework 1**\r\n",
        "\r\n",
        "다음의 각 문항에 대해 실습목표를 완수하고, 출력 결과를 확인합니다.\r\n",
        "\r\n",
        "**※ 제출방법:** 실습내용 및 출력 결과가 저장된 Colab 파일(`*.ipynb`)를 KLMS의 과제 항목에 업로드"
      ]
    },
    {
      "cell_type": "markdown",
      "metadata": {
        "id": "LvF5IjLHKLcH"
      },
      "source": [
        "### **실습 1. MNIST 데이터의 인덱스를 수정하여 학습/테스트 데이터를 확인하세요.**\r\n",
        "\r\n",
        "* 인덱스를 변경하여 다른 데이터도 같은 방법으로 출력할 수 있습니다."
      ]
    },
    {
      "cell_type": "code",
      "metadata": {
        "colab": {
          "base_uri": "https://localhost:8080/"
        },
        "id": "ZZY2ieTUxzux",
        "outputId": "31629bbb-30d0-4cbc-b82b-81c804a872c3"
      },
      "source": [
        "import numpy as np\n",
        "import matplotlib.pyplot as plt"
      ],
      "execution_count": 10,
      "outputs": [
        {
          "output_type": "stream",
          "text": [
            "time: 1.28 ms (started: 2021-03-15 02:49:05 +00:00)\n"
          ],
          "name": "stdout"
        }
      ]
    },
    {
      "cell_type": "code",
      "metadata": {
        "colab": {
          "base_uri": "https://localhost:8080/"
        },
        "id": "6ZFxD7axx-gX",
        "outputId": "1895eadd-a6b3-4929-cdae-1b06c1fe9d32"
      },
      "source": [
        "import keras # keras\n",
        "from keras.datasets import mnist\n",
        "from keras.utils import to_categorical\n",
        "\n",
        "(train_images, train_labels), (test_images, test_labels) = mnist.load_data()\n",
        "\n",
        "input_train_images = train_images.reshape((60000, 28, 28, 1))\n",
        "input_train_images = input_train_images.astype('float32') / 255\n",
        "\n",
        "input_test_images = test_images.reshape((10000, 28, 28, 1))\n",
        "input_test_images = input_test_images.astype('float32') / 255\n",
        "\n",
        "train_labels = to_categorical(train_labels)\n",
        "test_labels = to_categorical(test_labels)"
      ],
      "execution_count": 8,
      "outputs": [
        {
          "output_type": "stream",
          "text": [
            "time: 381 ms (started: 2021-03-15 02:48:42 +00:00)\n"
          ],
          "name": "stdout"
        }
      ]
    },
    {
      "cell_type": "markdown",
      "metadata": {
        "id": "VYs4e3eMN-T9"
      },
      "source": [
        "#### (1-a) \"<u>학습</u> 데이터\" 중에서 <u>\"8\" 숫자</u>인 인덱스를 발견하고, 결과를 출력하세요."
      ]
    },
    {
      "cell_type": "code",
      "metadata": {
        "id": "DAgYDP2RKZXc",
        "colab": {
          "base_uri": "https://localhost:8080/",
          "height": 297
        },
        "outputId": "20193827-062d-4a6a-ff96-1398bc536e79"
      },
      "source": [
        "####\r\n",
        "# TODO: 다음 index 를 바꿔 학습 데이터와 레이블을 출력\r\n",
        "idxs = np.where(np.argmax(train_labels, axis=1)==8)\r\n",
        "idx = idxs[0][0]\r\n",
        "####\r\n",
        "\r\n",
        "digit = train_images[idx]\r\n",
        "plt.imshow(digit, cmap=plt.cm.binary)\r\n",
        "plt.show()\r\n",
        "print (\"label: {}\".format(train_labels[idx]))"
      ],
      "execution_count": 11,
      "outputs": [
        {
          "output_type": "display_data",
          "data": {
            "image/png": "[encoded data removed]",
            "text/plain": [
              "<Figure size 432x288 with 1 Axes>"
            ]
          },
          "metadata": {
            "tags": [],
            "needs_background": "light"
          }
        },
        {
          "output_type": "stream",
          "text": [
            "label: [0. 0. 0. 0. 0. 0. 0. 0. 1. 0.]\n",
            "time: 133 ms (started: 2021-03-15 02:49:08 +00:00)\n"
          ],
          "name": "stdout"
        }
      ]
    },
    {
      "cell_type": "markdown",
      "metadata": {
        "id": "cBH9_QF1OTKs"
      },
      "source": [
        "#### (1-b) 위의 1-a 코드 셀을 참고하여, \"<u>테스트</u> 데이터\" 중에서 <u>\"3\" 숫자</u>인 인덱스를 발견하고, 결과를 출력하세요."
      ]
    },
    {
      "cell_type": "code",
      "metadata": {
        "id": "o29P1lB9OTKt",
        "colab": {
          "base_uri": "https://localhost:8080/",
          "height": 297
        },
        "outputId": "6342d810-ce07-4ea6-b736-f3768a6810f2"
      },
      "source": [
        "####\r\n",
        "# TODO: 다음 index 를 바꿔 학습 데이터와 레이블을 출력\r\n",
        "idxs = np.where(np.argmax(test_labels, axis=1)==3)\r\n",
        "idx = idxs[0][0]\r\n",
        "####\r\n",
        "\r\n",
        "# TODO: 테스트 데이터의 이미지 및 레이블을 출력\r\n",
        "\r\n",
        "digit = test_images[idx]\r\n",
        "plt.imshow(digit, cmap=plt.cm.binary)\r\n",
        "plt.show()\r\n",
        "print (\"label: {}\".format(test_labels[idx]))"
      ],
      "execution_count": 12,
      "outputs": [
        {
          "output_type": "display_data",
          "data": {
            "image/png": "[encoded data removed]",
            "text/plain": [
              "<Figure size 432x288 with 1 Axes>"
            ]
          },
          "metadata": {
            "tags": [],
            "needs_background": "light"
          }
        },
        {
          "output_type": "stream",
          "text": [
            "label: [0. 0. 0. 1. 0. 0. 0. 0. 0. 0.]\n",
            "time: 128 ms (started: 2021-03-15 02:49:33 +00:00)\n"
          ],
          "name": "stdout"
        }
      ]
    },
    {
      "cell_type": "markdown",
      "metadata": {
        "id": "hPxqGJDbP3Gr"
      },
      "source": [
        "### **실습 2. 간단한 모델을 학습할 때, Colab의 런타임 유형에 따라 얼마나 시간이 차이나는지 비교하세요.**\r\n",
        "\r\n",
        "* 본문의 2-2절에서 코드 셀을 참고하여 간단한 모델을 학습하는 코드 블록을 완성하세요.\r\n",
        "* (참고) 런타임 유형을 변경하면 <u>Colab의 리소스가 초기화</u> 됩니다.\r\n",
        "  * 즉, 변수 선언, 모듈 임포트 등을 다시 실행해야 합니다.\r\n",
        "  * 그러나 출력 결과의 내용은 없어지지 않으므로, CPU 및 GPU의 실행 결과를 남겨둔 상태로 제출하세요.\r\n",
        "  * 활용 팁 파트와 같이, 코드 셀의 실행시간 측정 모듈 `autotime`을 적용해야 합니다."
      ]
    },
    {
      "cell_type": "markdown",
      "metadata": {
        "id": "DKDw8eSVQPVj"
      },
      "source": [
        "#### 2-a) 런타임 유형이 <u>**CPU**</u>일 때 실행결과 확인"
      ]
    },
    {
      "cell_type": "code",
      "metadata": {
        "id": "AtZtl1uTRNuh",
        "colab": {
          "base_uri": "https://localhost:8080/"
        },
        "outputId": "d44a75bc-0ad8-457c-8ab4-a9b5156c6651"
      },
      "source": [
        "# TODO: 모델 정의\r\n",
        "from keras import layers\r\n",
        "from keras import models\r\n",
        "\r\n",
        "model = models.Sequential()\r\n",
        "model.add(layers.Conv2D(32, (3, 3), activation='relu', input_shape=(28, 28, 1)))\r\n",
        "model.add(layers.MaxPooling2D((2, 2)))\r\n",
        "model.add(layers.Conv2D(64, (3, 3), activation='relu'))\r\n",
        "model.add(layers.MaxPooling2D((2, 2)))\r\n",
        "model.add(layers.Conv2D(64, (3, 3), activation='relu'))\r\n",
        "model.add(layers.Flatten())\r\n",
        "model.add(layers.Dense(64, activation='relu'))\r\n",
        "model.add(layers.Dense(10, activation='softmax'))"
      ],
      "execution_count": null,
      "outputs": [
        {
          "output_type": "stream",
          "text": [
            "time: 65.8 ms (started: 2021-03-15 00:52:31 +00:00)\n"
          ],
          "name": "stdout"
        }
      ]
    },
    {
      "cell_type": "code",
      "metadata": {
        "colab": {
          "base_uri": "https://localhost:8080/"
        },
        "id": "2rwczYl9XVvd",
        "outputId": "4d8edf02-d546-4567-a683-a424fc3f39af"
      },
      "source": [
        "model.summary()"
      ],
      "execution_count": null,
      "outputs": [
        {
          "output_type": "stream",
          "text": [
            "Model: \"sequential_3\"\n",
            "_________________________________________________________________\n",
            "Layer (type)                 Output Shape              Param #   \n",
            "=================================================================\n",
            "conv2d_6 (Conv2D)            (None, 26, 26, 32)        320       \n",
            "_________________________________________________________________\n",
            "max_pooling2d_4 (MaxPooling2 (None, 13, 13, 32)        0         \n",
            "_________________________________________________________________\n",
            "conv2d_7 (Conv2D)            (None, 11, 11, 64)        18496     \n",
            "_________________________________________________________________\n",
            "max_pooling2d_5 (MaxPooling2 (None, 5, 5, 64)          0         \n",
            "_________________________________________________________________\n",
            "conv2d_8 (Conv2D)            (None, 3, 3, 64)          36928     \n",
            "_________________________________________________________________\n",
            "flatten_2 (Flatten)          (None, 576)               0         \n",
            "_________________________________________________________________\n",
            "dense_4 (Dense)              (None, 64)                36928     \n",
            "_________________________________________________________________\n",
            "dense_5 (Dense)              (None, 10)                650       \n",
            "=================================================================\n",
            "Total params: 93,322\n",
            "Trainable params: 93,322\n",
            "Non-trainable params: 0\n",
            "_________________________________________________________________\n",
            "time: 3.43 ms (started: 2021-03-15 00:52:32 +00:00)\n"
          ],
          "name": "stdout"
        }
      ]
    },
    {
      "cell_type": "code",
      "metadata": {
        "id": "hPBVE0VQXeNG"
      },
      "source": [
        "from keras.datasets import mnist\n",
        "from keras.utils import to_categorical\n",
        "\n",
        "(train_images, train_labels), (test_images, test_labels) = mnist.load_data()\n",
        "\n",
        "input_train_images = train_images.reshape((60000, 28, 28, 1))\n",
        "input_train_images = input_train_images.astype('float32') / 255\n",
        "\n",
        "input_test_images = test_images.reshape((10000, 28, 28, 1))\n",
        "input_test_images = input_test_images.astype('float32') / 255\n",
        "\n",
        "train_labels = to_categorical(train_labels)\n",
        "test_labels = to_categorical(test_labels)"
      ],
      "execution_count": null,
      "outputs": []
    },
    {
      "cell_type": "code",
      "metadata": {
        "colab": {
          "base_uri": "https://localhost:8080/"
        },
        "id": "x7hgOQf4XYKA",
        "outputId": "d2a3f608-525d-45a5-98b1-10d9a14e2835"
      },
      "source": [
        "# TODO: 모델 학습\n",
        "model.compile(optimizer='rmsprop',\n",
        "              loss='categorical_crossentropy',\n",
        "              metrics=['accuracy'])\n",
        "model.fit(input_train_images, train_labels, epochs=5, batch_size=64)"
      ],
      "execution_count": null,
      "outputs": [
        {
          "output_type": "stream",
          "text": [
            "Epoch 1/5\n",
            "938/938 [==============================] - 44s 46ms/step - loss: 0.3918 - accuracy: 0.8739\n",
            "Epoch 2/5\n",
            "938/938 [==============================] - 42s 45ms/step - loss: 0.0546 - accuracy: 0.9831\n",
            "Epoch 3/5\n",
            "938/938 [==============================] - 43s 46ms/step - loss: 0.0330 - accuracy: 0.9895\n",
            "Epoch 4/5\n",
            "938/938 [==============================] - 43s 46ms/step - loss: 0.0235 - accuracy: 0.9926\n",
            "Epoch 5/5\n",
            "938/938 [==============================] - 43s 46ms/step - loss: 0.0178 - accuracy: 0.9946\n"
          ],
          "name": "stdout"
        },
        {
          "output_type": "execute_result",
          "data": {
            "text/plain": [
              "<tensorflow.python.keras.callbacks.History at 0x7fc0efc6e790>"
            ]
          },
          "metadata": {
            "tags": []
          },
          "execution_count": 32
        },
        {
          "output_type": "stream",
          "text": [
            "time: 3min 35s (started: 2021-03-15 00:52:37 +00:00)\n"
          ],
          "name": "stdout"
        }
      ]
    },
    {
      "cell_type": "code",
      "metadata": {
        "colab": {
          "base_uri": "https://localhost:8080/"
        },
        "id": "i__y7HECXiCy",
        "outputId": "2de0bd3a-9645-4f62-f188-5d04ac000898"
      },
      "source": [
        "test_loss, test_acc = model.evaluate(input_test_images, test_labels)\n",
        "print(test_acc)"
      ],
      "execution_count": null,
      "outputs": [
        {
          "output_type": "stream",
          "text": [
            "313/313 [==============================] - 3s 8ms/step - loss: 0.0324 - accuracy: 0.9901\n",
            "0.9901000261306763\n",
            "time: 2.74 s (started: 2021-03-15 00:56:26 +00:00)\n"
          ],
          "name": "stdout"
        }
      ]
    },
    {
      "cell_type": "markdown",
      "metadata": {
        "id": "wXLqRc7XRee0"
      },
      "source": [
        "#### 2-b) 런타임 유형이 <u>**GPU**</u>일 때 실행결과 확인"
      ]
    },
    {
      "cell_type": "code",
      "metadata": {
        "colab": {
          "base_uri": "https://localhost:8080/"
        },
        "id": "4UWhKINpX1FY",
        "outputId": "08e53dba-35f3-498e-8870-94d0ae66049d"
      },
      "source": [
        "# TODO: 모델 정의\r\n",
        "from keras import layers\r\n",
        "from keras import models\r\n",
        "\r\n",
        "model = models.Sequential()\r\n",
        "model.add(layers.Conv2D(32, (3, 3), activation='relu', input_shape=(28, 28, 1)))\r\n",
        "model.add(layers.MaxPooling2D((2, 2)))\r\n",
        "model.add(layers.Conv2D(64, (3, 3), activation='relu'))\r\n",
        "model.add(layers.MaxPooling2D((2, 2)))\r\n",
        "model.add(layers.Conv2D(64, (3, 3), activation='relu'))\r\n",
        "model.add(layers.Flatten())\r\n",
        "model.add(layers.Dense(64, activation='relu'))\r\n",
        "model.add(layers.Dense(10, activation='softmax'))"
      ],
      "execution_count": null,
      "outputs": [
        {
          "output_type": "stream",
          "text": [
            "time: 1.94 s (started: 2021-03-15 00:58:22 +00:00)\n"
          ],
          "name": "stdout"
        }
      ]
    },
    {
      "cell_type": "code",
      "metadata": {
        "colab": {
          "base_uri": "https://localhost:8080/"
        },
        "id": "zf8-wfifX1Fn",
        "outputId": "01ea07c6-c5b9-4098-d9bd-39d49a1a48d9"
      },
      "source": [
        "model.summary()"
      ],
      "execution_count": null,
      "outputs": [
        {
          "output_type": "stream",
          "text": [
            "Model: \"sequential\"\n",
            "_________________________________________________________________\n",
            "Layer (type)                 Output Shape              Param #   \n",
            "=================================================================\n",
            "conv2d (Conv2D)              (None, 26, 26, 32)        320       \n",
            "_________________________________________________________________\n",
            "max_pooling2d (MaxPooling2D) (None, 13, 13, 32)        0         \n",
            "_________________________________________________________________\n",
            "conv2d_1 (Conv2D)            (None, 11, 11, 64)        18496     \n",
            "_________________________________________________________________\n",
            "max_pooling2d_1 (MaxPooling2 (None, 5, 5, 64)          0         \n",
            "_________________________________________________________________\n",
            "conv2d_2 (Conv2D)            (None, 3, 3, 64)          36928     \n",
            "_________________________________________________________________\n",
            "flatten (Flatten)            (None, 576)               0         \n",
            "_________________________________________________________________\n",
            "dense (Dense)                (None, 64)                36928     \n",
            "_________________________________________________________________\n",
            "dense_1 (Dense)              (None, 10)                650       \n",
            "=================================================================\n",
            "Total params: 93,322\n",
            "Trainable params: 93,322\n",
            "Non-trainable params: 0\n",
            "_________________________________________________________________\n",
            "time: 11.2 ms (started: 2021-03-15 00:58:24 +00:00)\n"
          ],
          "name": "stdout"
        }
      ]
    },
    {
      "cell_type": "code",
      "metadata": {
        "colab": {
          "base_uri": "https://localhost:8080/"
        },
        "id": "vke3bdGVX1Fo",
        "outputId": "aaee7d94-3195-4e3e-c799-1472ecb60133"
      },
      "source": [
        "from keras.datasets import mnist\n",
        "from keras.utils import to_categorical\n",
        "\n",
        "(train_images, train_labels), (test_images, test_labels) = mnist.load_data()\n",
        "\n",
        "input_train_images = train_images.reshape((60000, 28, 28, 1))\n",
        "input_train_images = input_train_images.astype('float32') / 255\n",
        "\n",
        "input_test_images = test_images.reshape((10000, 28, 28, 1))\n",
        "input_test_images = input_test_images.astype('float32') / 255\n",
        "\n",
        "train_labels = to_categorical(train_labels)\n",
        "test_labels = to_categorical(test_labels)"
      ],
      "execution_count": null,
      "outputs": [
        {
          "output_type": "stream",
          "text": [
            "time: 380 ms (started: 2021-03-15 00:58:34 +00:00)\n"
          ],
          "name": "stdout"
        }
      ]
    },
    {
      "cell_type": "code",
      "metadata": {
        "colab": {
          "base_uri": "https://localhost:8080/"
        },
        "id": "oiX3wEpSX1Fo",
        "outputId": "a631a604-66ea-44f2-a9ef-32316e102c72"
      },
      "source": [
        "# TODO: 모델 학습\n",
        "model.compile(optimizer='rmsprop',\n",
        "              loss='categorical_crossentropy',\n",
        "              metrics=['accuracy'])\n",
        "model.fit(input_train_images, train_labels, epochs=5, batch_size=64)"
      ],
      "execution_count": null,
      "outputs": [
        {
          "output_type": "stream",
          "text": [
            "Epoch 1/5\n",
            "938/938 [==============================] - 7s 4ms/step - loss: 0.3866 - accuracy: 0.8772\n",
            "Epoch 2/5\n",
            "938/938 [==============================] - 3s 4ms/step - loss: 0.0509 - accuracy: 0.9844\n",
            "Epoch 3/5\n",
            "938/938 [==============================] - 3s 4ms/step - loss: 0.0341 - accuracy: 0.9894\n",
            "Epoch 4/5\n",
            "938/938 [==============================] - 3s 4ms/step - loss: 0.0238 - accuracy: 0.9921\n",
            "Epoch 5/5\n",
            "938/938 [==============================] - 3s 4ms/step - loss: 0.0174 - accuracy: 0.9951\n"
          ],
          "name": "stdout"
        },
        {
          "output_type": "execute_result",
          "data": {
            "text/plain": [
              "<tensorflow.python.keras.callbacks.History at 0x7fb5167d20d0>"
            ]
          },
          "metadata": {
            "tags": []
          },
          "execution_count": 5
        },
        {
          "output_type": "stream",
          "text": [
            "time: 20.6 s (started: 2021-03-15 00:58:35 +00:00)\n"
          ],
          "name": "stdout"
        }
      ]
    },
    {
      "cell_type": "code",
      "metadata": {
        "colab": {
          "base_uri": "https://localhost:8080/"
        },
        "id": "wef4nvU9X1Fo",
        "outputId": "5ee85d29-299a-44ce-bd62-2de66c8da35b"
      },
      "source": [
        "test_loss, test_acc = model.evaluate(input_test_images, test_labels)\n",
        "print(test_acc)"
      ],
      "execution_count": null,
      "outputs": [
        {
          "output_type": "stream",
          "text": [
            "313/313 [==============================] - 1s 2ms/step - loss: 0.0278 - accuracy: 0.9915\n",
            "0.9915000200271606\n",
            "time: 862 ms (started: 2021-03-15 00:58:56 +00:00)\n"
          ],
          "name": "stdout"
        }
      ]
    },
    {
      "cell_type": "markdown",
      "metadata": {
        "id": "lgaN5wovR01L"
      },
      "source": [
        "### **실습 3. 간단한 모델의 구조를 변경해 본 후, 성능 테스트 결과가 변화하는 것을 확인하세요.**\r\n",
        "\r\n",
        "* 본문의 2-2절 및 2-3절에서 코드 셀을 참고하여 간단한 모델을 학습하는 코드 블록을 완성하세요.\r\n",
        "* 간단한 모델에 <u>레이어를 최소 1개 이상</u> 더 추가해보세요."
      ]
    },
    {
      "cell_type": "markdown",
      "metadata": {
        "id": "sbiLsU_M4syA"
      },
      "source": [
        "**변경 사항**\n",
        "\n",
        "- Filter 32 -> 64로 변경\n",
        "- 마지막에 MaxPooling2D layer 추가"
      ]
    },
    {
      "cell_type": "code",
      "metadata": {
        "colab": {
          "base_uri": "https://localhost:8080/"
        },
        "id": "gRoU_axGy1B4",
        "outputId": "7d162a13-e1d0-4109-c8fb-8799660d2d17"
      },
      "source": [
        "from keras import layers\n",
        "from keras import models"
      ],
      "execution_count": 14,
      "outputs": [
        {
          "output_type": "stream",
          "text": [
            "time: 1.83 ms (started: 2021-03-15 02:51:30 +00:00)\n"
          ],
          "name": "stdout"
        }
      ]
    },
    {
      "cell_type": "code",
      "metadata": {
        "colab": {
          "base_uri": "https://localhost:8080/"
        },
        "id": "-W7FCsnuxEK4",
        "outputId": "15cddc06-cb30-477c-8a5f-7d73727f7e91"
      },
      "source": [
        "# TODO: 모델 정의\r\n",
        "model = models.Sequential()\r\n",
        "model.add(layers.Conv2D(64, (3, 3), activation='relu', input_shape=(28, 28, 1)))\r\n",
        "model.add(layers.MaxPooling2D((2, 2)))\r\n",
        "model.add(layers.Conv2D(128, (3, 3), activation='relu'))\r\n",
        "model.add(layers.MaxPooling2D((2, 2)))\r\n",
        "model.add(layers.Conv2D(128, (3, 3), activation='relu'))\r\n",
        "model.add(layers.MaxPooling2D((2, 2)))\r\n",
        "model.add(layers.Flatten())\r\n",
        "model.add(layers.Dense(256, activation='relu'))\r\n",
        "model.add(layers.Dense(10, activation='softmax'))"
      ],
      "execution_count": 21,
      "outputs": [
        {
          "output_type": "stream",
          "text": [
            "time: 57.4 ms (started: 2021-03-15 03:13:30 +00:00)\n"
          ],
          "name": "stdout"
        }
      ]
    },
    {
      "cell_type": "code",
      "metadata": {
        "colab": {
          "base_uri": "https://localhost:8080/"
        },
        "id": "we91AWAVxEK5",
        "outputId": "641ecede-5f48-4cba-b4ae-dd8593f7683e"
      },
      "source": [
        "model.summary()"
      ],
      "execution_count": 22,
      "outputs": [
        {
          "output_type": "stream",
          "text": [
            "Model: \"sequential_5\"\n",
            "_________________________________________________________________\n",
            "Layer (type)                 Output Shape              Param #   \n",
            "=================================================================\n",
            "conv2d_18 (Conv2D)           (None, 26, 26, 64)        640       \n",
            "_________________________________________________________________\n",
            "max_pooling2d_13 (MaxPooling (None, 13, 13, 64)        0         \n",
            "_________________________________________________________________\n",
            "conv2d_19 (Conv2D)           (None, 11, 11, 128)       73856     \n",
            "_________________________________________________________________\n",
            "max_pooling2d_14 (MaxPooling (None, 5, 5, 128)         0         \n",
            "_________________________________________________________________\n",
            "conv2d_20 (Conv2D)           (None, 3, 3, 128)         147584    \n",
            "_________________________________________________________________\n",
            "max_pooling2d_15 (MaxPooling (None, 1, 1, 128)         0         \n",
            "_________________________________________________________________\n",
            "flatten_1 (Flatten)          (None, 128)               0         \n",
            "_________________________________________________________________\n",
            "dense_2 (Dense)              (None, 256)               33024     \n",
            "_________________________________________________________________\n",
            "dense_3 (Dense)              (None, 10)                2570      \n",
            "=================================================================\n",
            "Total params: 257,674\n",
            "Trainable params: 257,674\n",
            "Non-trainable params: 0\n",
            "_________________________________________________________________\n",
            "time: 7.6 ms (started: 2021-03-15 03:13:31 +00:00)\n"
          ],
          "name": "stdout"
        }
      ]
    },
    {
      "cell_type": "code",
      "metadata": {
        "id": "hEuXxpFCxEK5"
      },
      "source": [
        "from keras.datasets import mnist\n",
        "from keras.utils import to_categorical\n",
        "\n",
        "(train_images, train_labels), (test_images, test_labels) = mnist.load_data()\n",
        "\n",
        "input_train_images = train_images.reshape((60000, 28, 28, 1))\n",
        "input_train_images = input_train_images.astype('float32') / 255\n",
        "\n",
        "input_test_images = test_images.reshape((10000, 28, 28, 1))\n",
        "input_test_images = input_test_images.astype('float32') / 255\n",
        "\n",
        "train_labels = to_categorical(train_labels)\n",
        "test_labels = to_categorical(test_labels)"
      ],
      "execution_count": null,
      "outputs": []
    },
    {
      "cell_type": "code",
      "metadata": {
        "colab": {
          "base_uri": "https://localhost:8080/"
        },
        "id": "dw_92n4sxEK5",
        "outputId": "fe4bac57-9b1f-44c2-e4b8-a5ed3303ae00"
      },
      "source": [
        "# TODO: 모델 학습\n",
        "model.compile(optimizer='rmsprop',\n",
        "              loss='categorical_crossentropy',\n",
        "              metrics=['accuracy'])\n",
        "model.fit(input_train_images, train_labels, epochs=5, batch_size=64)"
      ],
      "execution_count": 23,
      "outputs": [
        {
          "output_type": "stream",
          "text": [
            "Epoch 1/5\n",
            "938/938 [==============================] - 38s 5ms/step - loss: 0.4355 - accuracy: 0.8540\n",
            "Epoch 2/5\n",
            "938/938 [==============================] - 5s 5ms/step - loss: 0.0596 - accuracy: 0.9820\n",
            "Epoch 3/5\n",
            "938/938 [==============================] - 5s 5ms/step - loss: 0.0409 - accuracy: 0.9873\n",
            "Epoch 4/5\n",
            "938/938 [==============================] - 5s 5ms/step - loss: 0.0311 - accuracy: 0.9909\n",
            "Epoch 5/5\n",
            "938/938 [==============================] - 5s 5ms/step - loss: 0.0240 - accuracy: 0.9923\n"
          ],
          "name": "stdout"
        },
        {
          "output_type": "execute_result",
          "data": {
            "text/plain": [
              "<tensorflow.python.keras.callbacks.History at 0x7fd0002cfd90>"
            ]
          },
          "metadata": {
            "tags": []
          },
          "execution_count": 23
        },
        {
          "output_type": "stream",
          "text": [
            "time: 56.5 s (started: 2021-03-15 03:13:50 +00:00)\n"
          ],
          "name": "stdout"
        }
      ]
    },
    {
      "cell_type": "code",
      "metadata": {
        "colab": {
          "base_uri": "https://localhost:8080/"
        },
        "id": "yq7LRFGgxEK5",
        "outputId": "9b6916c7-a21c-417d-f031-707c280f1b51"
      },
      "source": [
        "test_loss, test_acc = model.evaluate(input_test_images, test_labels)\n",
        "print(test_acc)"
      ],
      "execution_count": 24,
      "outputs": [
        {
          "output_type": "stream",
          "text": [
            "313/313 [==============================] - 1s 2ms/step - loss: 0.0615 - accuracy: 0.9845\n",
            "0.984499990940094\n",
            "time: 898 ms (started: 2021-03-15 03:14:46 +00:00)\n"
          ],
          "name": "stdout"
        }
      ]
    },
    {
      "cell_type": "markdown",
      "metadata": {
        "id": "Q3mMnP7k4XFt"
      },
      "source": [
        "### AveragePooling"
      ]
    },
    {
      "cell_type": "code",
      "metadata": {
        "colab": {
          "base_uri": "https://localhost:8080/"
        },
        "id": "ApzESYFL4atl",
        "outputId": "ed906caa-0649-4d89-bd70-f9f3ce731163"
      },
      "source": [
        "# TODO: 모델 정의\n",
        "model = models.Sequential()\n",
        "model.add(layers.Conv2D(32, (3, 3), activation='relu', input_shape=(28, 28, 1)))\n",
        "model.add(layers.AveragePooling2D((2, 2)))\n",
        "model.add(layers.Conv2D(64, (3, 3), activation='relu'))\n",
        "model.add(layers.AveragePooling2D((2, 2)))\n",
        "model.add(layers.Conv2D(64, (3, 3), activation='relu'))\n",
        "model.add(layers.AveragePooling2D((2, 2)))\n",
        "model.add(layers.Flatten())\n",
        "model.add(layers.Dense(256, activation='relu'))\n",
        "model.add(layers.Dense(10, activation='softmax'))"
      ],
      "execution_count": 25,
      "outputs": [
        {
          "output_type": "stream",
          "text": [
            "time: 57 ms (started: 2021-03-15 03:16:13 +00:00)\n"
          ],
          "name": "stdout"
        }
      ]
    },
    {
      "cell_type": "code",
      "metadata": {
        "colab": {
          "base_uri": "https://localhost:8080/"
        },
        "id": "zUHrqCJ94lLX",
        "outputId": "ed9f89ba-3dc8-4370-f441-a59a93677a93"
      },
      "source": [
        "model.summary()"
      ],
      "execution_count": 26,
      "outputs": [
        {
          "output_type": "stream",
          "text": [
            "Model: \"sequential_6\"\n",
            "_________________________________________________________________\n",
            "Layer (type)                 Output Shape              Param #   \n",
            "=================================================================\n",
            "conv2d_21 (Conv2D)           (None, 26, 26, 32)        320       \n",
            "_________________________________________________________________\n",
            "average_pooling2d (AveragePo (None, 13, 13, 32)        0         \n",
            "_________________________________________________________________\n",
            "conv2d_22 (Conv2D)           (None, 11, 11, 64)        18496     \n",
            "_________________________________________________________________\n",
            "average_pooling2d_1 (Average (None, 5, 5, 64)          0         \n",
            "_________________________________________________________________\n",
            "conv2d_23 (Conv2D)           (None, 3, 3, 64)          36928     \n",
            "_________________________________________________________________\n",
            "average_pooling2d_2 (Average (None, 1, 1, 64)          0         \n",
            "_________________________________________________________________\n",
            "flatten_2 (Flatten)          (None, 64)                0         \n",
            "_________________________________________________________________\n",
            "dense_4 (Dense)              (None, 256)               16640     \n",
            "_________________________________________________________________\n",
            "dense_5 (Dense)              (None, 10)                2570      \n",
            "=================================================================\n",
            "Total params: 74,954\n",
            "Trainable params: 74,954\n",
            "Non-trainable params: 0\n",
            "_________________________________________________________________\n",
            "time: 7.89 ms (started: 2021-03-15 03:16:18 +00:00)\n"
          ],
          "name": "stdout"
        }
      ]
    },
    {
      "cell_type": "code",
      "metadata": {
        "colab": {
          "base_uri": "https://localhost:8080/"
        },
        "id": "j4eJaaHY4mDe",
        "outputId": "667e64b2-fdec-4b8f-bf48-b73fbcf40d05"
      },
      "source": [
        "# TODO: 모델 학습\n",
        "model.compile(optimizer='rmsprop',\n",
        "              loss='categorical_crossentropy',\n",
        "              metrics=['accuracy'])\n",
        "model.fit(input_train_images, train_labels, epochs=5, batch_size=64)"
      ],
      "execution_count": 27,
      "outputs": [
        {
          "output_type": "stream",
          "text": [
            "Epoch 1/5\n",
            "938/938 [==============================] - 4s 4ms/step - loss: 0.7547 - accuracy: 0.7482\n",
            "Epoch 2/5\n",
            "938/938 [==============================] - 3s 4ms/step - loss: 0.1377 - accuracy: 0.9572\n",
            "Epoch 3/5\n",
            "938/938 [==============================] - 3s 4ms/step - loss: 0.0868 - accuracy: 0.9737\n",
            "Epoch 4/5\n",
            "938/938 [==============================] - 3s 4ms/step - loss: 0.0644 - accuracy: 0.9796\n",
            "Epoch 5/5\n",
            "938/938 [==============================] - 3s 4ms/step - loss: 0.0537 - accuracy: 0.9836\n"
          ],
          "name": "stdout"
        },
        {
          "output_type": "execute_result",
          "data": {
            "text/plain": [
              "<tensorflow.python.keras.callbacks.History at 0x7fcff96e4650>"
            ]
          },
          "metadata": {
            "tags": []
          },
          "execution_count": 27
        },
        {
          "output_type": "stream",
          "text": [
            "time: 18 s (started: 2021-03-15 03:16:25 +00:00)\n"
          ],
          "name": "stdout"
        }
      ]
    },
    {
      "cell_type": "code",
      "metadata": {
        "colab": {
          "base_uri": "https://localhost:8080/"
        },
        "id": "2sE65mbV4oEg",
        "outputId": "4380e802-0ae5-4e03-e7b1-3de5a7c4e499"
      },
      "source": [
        "test_loss, test_acc = model.evaluate(input_test_images, test_labels)\n",
        "print(test_acc)"
      ],
      "execution_count": 28,
      "outputs": [
        {
          "output_type": "stream",
          "text": [
            "313/313 [==============================] - 1s 2ms/step - loss: 0.0487 - accuracy: 0.9860\n",
            "0.9860000014305115\n",
            "time: 845 ms (started: 2021-03-15 03:16:44 +00:00)\n"
          ],
          "name": "stdout"
        }
      ]
    },
    {
      "cell_type": "markdown",
      "metadata": {
        "id": "YavQMD5p5KvF"
      },
      "source": [
        "### Optimizer - SGD"
      ]
    },
    {
      "cell_type": "code",
      "metadata": {
        "colab": {
          "base_uri": "https://localhost:8080/"
        },
        "id": "kjeTdMP25Noq",
        "outputId": "110876d5-05c7-4cca-be6c-ba8c6f66f4bf"
      },
      "source": [
        "model = models.Sequential()\n",
        "model.add(layers.Conv2D(32, (3, 3), activation='relu', input_shape=(28, 28, 1)))\n",
        "model.add(layers.MaxPooling2D((2, 2)))\n",
        "model.add(layers.Conv2D(64, (3, 3), activation='relu'))\n",
        "model.add(layers.MaxPooling2D((2, 2)))\n",
        "model.add(layers.Conv2D(64, (3, 3), activation='relu'))\n",
        "model.add(layers.Flatten())\n",
        "model.add(layers.Dense(64, activation='relu'))\n",
        "model.add(layers.Dense(10, activation='softmax'))"
      ],
      "execution_count": 29,
      "outputs": [
        {
          "output_type": "stream",
          "text": [
            "time: 51.1 ms (started: 2021-03-15 03:19:19 +00:00)\n"
          ],
          "name": "stdout"
        }
      ]
    },
    {
      "cell_type": "code",
      "metadata": {
        "colab": {
          "base_uri": "https://localhost:8080/"
        },
        "id": "_CBvFUxm5Say",
        "outputId": "3ffd8b3e-f147-4b69-c688-397478f1f072"
      },
      "source": [
        "model.compile(optimizer='SGD',\n",
        "              loss='categorical_crossentropy',\n",
        "              metrics=['accuracy'])\n",
        "model.fit(input_train_images, train_labels, epochs=5, batch_size=64)"
      ],
      "execution_count": 30,
      "outputs": [
        {
          "output_type": "stream",
          "text": [
            "Epoch 1/5\n",
            "938/938 [==============================] - 3s 3ms/step - loss: 1.5110 - accuracy: 0.5454\n",
            "Epoch 2/5\n",
            "938/938 [==============================] - 3s 3ms/step - loss: 0.2465 - accuracy: 0.9255\n",
            "Epoch 3/5\n",
            "938/938 [==============================] - 3s 3ms/step - loss: 0.1508 - accuracy: 0.9551\n",
            "Epoch 4/5\n",
            "938/938 [==============================] - 3s 3ms/step - loss: 0.1190 - accuracy: 0.9637\n",
            "Epoch 5/5\n",
            "938/938 [==============================] - 3s 3ms/step - loss: 0.0928 - accuracy: 0.9713\n"
          ],
          "name": "stdout"
        },
        {
          "output_type": "execute_result",
          "data": {
            "text/plain": [
              "<tensorflow.python.keras.callbacks.History at 0x7fcff84b3a50>"
            ]
          },
          "metadata": {
            "tags": []
          },
          "execution_count": 30
        },
        {
          "output_type": "stream",
          "text": [
            "time: 16 s (started: 2021-03-15 03:20:10 +00:00)\n"
          ],
          "name": "stdout"
        }
      ]
    },
    {
      "cell_type": "code",
      "metadata": {
        "colab": {
          "base_uri": "https://localhost:8080/"
        },
        "id": "vocwk5Zg5e6X",
        "outputId": "72bb9f51-b5c1-4f40-ebdc-4fa064a2ee55"
      },
      "source": [
        "test_loss, test_acc = model.evaluate(input_test_images, test_labels)\n",
        "print(test_acc)"
      ],
      "execution_count": 31,
      "outputs": [
        {
          "output_type": "stream",
          "text": [
            "313/313 [==============================] - 1s 2ms/step - loss: 0.1047 - accuracy: 0.9683\n",
            "0.9682999849319458\n",
            "time: 846 ms (started: 2021-03-15 03:20:29 +00:00)\n"
          ],
          "name": "stdout"
        }
      ]
    },
    {
      "cell_type": "markdown",
      "metadata": {
        "id": "w_PfZzlt5tQ_"
      },
      "source": [
        ""
      ]
    },
    {
      "cell_type": "markdown",
      "metadata": {
        "id": "idjWWf-k5tTs"
      },
      "source": [
        "### Optimizer - Adam"
      ]
    },
    {
      "cell_type": "code",
      "metadata": {
        "colab": {
          "base_uri": "https://localhost:8080/"
        },
        "id": "K1UPycdg5x6T",
        "outputId": "141b158d-3425-4d2e-e4b4-043b1c01018b"
      },
      "source": [
        "model = models.Sequential()\n",
        "model.add(layers.Conv2D(32, (3, 3), activation='relu', input_shape=(28, 28, 1)))\n",
        "model.add(layers.MaxPooling2D((2, 2)))\n",
        "model.add(layers.Conv2D(64, (3, 3), activation='relu'))\n",
        "model.add(layers.MaxPooling2D((2, 2)))\n",
        "model.add(layers.Conv2D(64, (3, 3), activation='relu'))\n",
        "model.add(layers.Flatten())\n",
        "model.add(layers.Dense(64, activation='relu'))\n",
        "model.add(layers.Dense(10, activation='softmax'))"
      ],
      "execution_count": 33,
      "outputs": [
        {
          "output_type": "stream",
          "text": [
            "time: 58.1 ms (started: 2021-03-15 03:21:45 +00:00)\n"
          ],
          "name": "stdout"
        }
      ]
    },
    {
      "cell_type": "code",
      "metadata": {
        "colab": {
          "base_uri": "https://localhost:8080/"
        },
        "id": "Q4_rgkWd5x6U",
        "outputId": "7692d39a-580c-4f0f-cbcd-72929d710990"
      },
      "source": [
        "model.compile(optimizer='adam',\n",
        "              loss='categorical_crossentropy',\n",
        "              metrics=['accuracy'])\n",
        "model.fit(input_train_images, train_labels, epochs=5, batch_size=64)"
      ],
      "execution_count": 34,
      "outputs": [
        {
          "output_type": "stream",
          "text": [
            "Epoch 1/5\n",
            "938/938 [==============================] - 4s 4ms/step - loss: 0.4081 - accuracy: 0.8736\n",
            "Epoch 2/5\n",
            "938/938 [==============================] - 3s 3ms/step - loss: 0.0515 - accuracy: 0.9835\n",
            "Epoch 3/5\n",
            "938/938 [==============================] - 3s 3ms/step - loss: 0.0350 - accuracy: 0.9889\n",
            "Epoch 4/5\n",
            "938/938 [==============================] - 3s 3ms/step - loss: 0.0242 - accuracy: 0.9927\n",
            "Epoch 5/5\n",
            "938/938 [==============================] - 3s 3ms/step - loss: 0.0206 - accuracy: 0.9936\n"
          ],
          "name": "stdout"
        },
        {
          "output_type": "execute_result",
          "data": {
            "text/plain": [
              "<tensorflow.python.keras.callbacks.History at 0x7fcff833a710>"
            ]
          },
          "metadata": {
            "tags": []
          },
          "execution_count": 34
        },
        {
          "output_type": "stream",
          "text": [
            "time: 16.7 s (started: 2021-03-15 03:21:47 +00:00)\n"
          ],
          "name": "stdout"
        }
      ]
    },
    {
      "cell_type": "code",
      "metadata": {
        "colab": {
          "base_uri": "https://localhost:8080/"
        },
        "id": "WbeVy8W55x6U",
        "outputId": "27593f6e-0789-448b-a7d9-d60691c2736c"
      },
      "source": [
        "test_loss, test_acc = model.evaluate(input_test_images, test_labels)\n",
        "print(test_acc)"
      ],
      "execution_count": 35,
      "outputs": [
        {
          "output_type": "stream",
          "text": [
            "313/313 [==============================] - 1s 2ms/step - loss: 0.0289 - accuracy: 0.9908\n",
            "0.9908000230789185\n",
            "time: 964 ms (started: 2021-03-15 03:22:04 +00:00)\n"
          ],
          "name": "stdout"
        }
      ]
    },
    {
      "cell_type": "markdown",
      "metadata": {
        "id": "u5obb00R5ubv"
      },
      "source": [
        "### Optimizer - Adagrad"
      ]
    },
    {
      "cell_type": "code",
      "metadata": {
        "colab": {
          "base_uri": "https://localhost:8080/"
        },
        "id": "zckTARpl5yn6",
        "outputId": "0b73556f-b132-4068-f04c-ec6717c2a056"
      },
      "source": [
        "model = models.Sequential()\n",
        "model.add(layers.Conv2D(32, (3, 3), activation='relu', input_shape=(28, 28, 1)))\n",
        "model.add(layers.MaxPooling2D((2, 2)))\n",
        "model.add(layers.Conv2D(64, (3, 3), activation='relu'))\n",
        "model.add(layers.MaxPooling2D((2, 2)))\n",
        "model.add(layers.Conv2D(64, (3, 3), activation='relu'))\n",
        "model.add(layers.Flatten())\n",
        "model.add(layers.Dense(64, activation='relu'))\n",
        "model.add(layers.Dense(10, activation='softmax'))"
      ],
      "execution_count": 36,
      "outputs": [
        {
          "output_type": "stream",
          "text": [
            "time: 55.1 ms (started: 2021-03-15 03:22:06 +00:00)\n"
          ],
          "name": "stdout"
        }
      ]
    },
    {
      "cell_type": "code",
      "metadata": {
        "colab": {
          "base_uri": "https://localhost:8080/"
        },
        "id": "FO6fmAcH5yn6",
        "outputId": "2a717476-4b44-4120-cc51-00256c760283"
      },
      "source": [
        "model.compile(optimizer='adagrad',\n",
        "              loss='categorical_crossentropy',\n",
        "              metrics=['accuracy'])\n",
        "model.fit(input_train_images, train_labels, epochs=5, batch_size=64)"
      ],
      "execution_count": 37,
      "outputs": [
        {
          "output_type": "stream",
          "text": [
            "Epoch 1/5\n",
            "938/938 [==============================] - 4s 4ms/step - loss: 2.2489 - accuracy: 0.2509\n",
            "Epoch 2/5\n",
            "938/938 [==============================] - 3s 3ms/step - loss: 1.2624 - accuracy: 0.7176\n",
            "Epoch 3/5\n",
            "938/938 [==============================] - 3s 3ms/step - loss: 0.5217 - accuracy: 0.8540\n",
            "Epoch 4/5\n",
            "938/938 [==============================] - 3s 3ms/step - loss: 0.4054 - accuracy: 0.8818\n",
            "Epoch 5/5\n",
            "938/938 [==============================] - 3s 3ms/step - loss: 0.3515 - accuracy: 0.8955\n"
          ],
          "name": "stdout"
        },
        {
          "output_type": "execute_result",
          "data": {
            "text/plain": [
              "<tensorflow.python.keras.callbacks.History at 0x7fd0402d6650>"
            ]
          },
          "metadata": {
            "tags": []
          },
          "execution_count": 37
        },
        {
          "output_type": "stream",
          "text": [
            "time: 16.4 s (started: 2021-03-15 03:22:06 +00:00)\n"
          ],
          "name": "stdout"
        }
      ]
    },
    {
      "cell_type": "code",
      "metadata": {
        "colab": {
          "base_uri": "https://localhost:8080/"
        },
        "id": "8QB88k3W5yn7",
        "outputId": "3312dd5c-dd25-40f7-d598-159a87c8cb11"
      },
      "source": [
        "test_loss, test_acc = model.evaluate(input_test_images, test_labels)\n",
        "print(test_acc)"
      ],
      "execution_count": 38,
      "outputs": [
        {
          "output_type": "stream",
          "text": [
            "313/313 [==============================] - 1s 2ms/step - loss: 0.3050 - accuracy: 0.9093\n",
            "0.9093000292778015\n",
            "time: 830 ms (started: 2021-03-15 03:22:22 +00:00)\n"
          ],
          "name": "stdout"
        }
      ]
    },
    {
      "cell_type": "code",
      "metadata": {
        "id": "qaJZzslv54_7"
      },
      "source": [
        ""
      ],
      "execution_count": null,
      "outputs": []
    }
  ]
}